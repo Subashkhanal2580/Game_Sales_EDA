{
 "cells": [
  {
   "cell_type": "markdown",
   "metadata": {},
   "source": [
    "EDA on video games sales"
   ]
  },
  {
   "cell_type": "markdown",
   "metadata": {},
   "source": [
    "Loading the dependencies"
   ]
  },
  {
   "cell_type": "code",
   "execution_count": 130,
   "metadata": {},
   "outputs": [],
   "source": [
    "import pandas as pd\n",
    "import numpy as np\n",
    "import matplotlib as plt\n",
    "import seaborn as sns\n",
    "import plotly.express as px\n",
    "import matplotlib.pyplot as plt"
   ]
  },
  {
   "cell_type": "markdown",
   "metadata": {},
   "source": [
    "Loading the data into pandas dataframe"
   ]
  },
  {
   "cell_type": "code",
   "execution_count": 3,
   "metadata": {},
   "outputs": [],
   "source": [
    "df=pd.read_csv('vgsales.csv')"
   ]
  },
  {
   "cell_type": "markdown",
   "metadata": {},
   "source": [
    "Observing the first five and last five rows of the dataset"
   ]
  },
  {
   "cell_type": "code",
   "execution_count": null,
   "metadata": {},
   "outputs": [],
   "source": [
    "df.head()"
   ]
  },
  {
   "cell_type": "code",
   "execution_count": null,
   "metadata": {},
   "outputs": [],
   "source": [
    "df.tail()"
   ]
  },
  {
   "cell_type": "markdown",
   "metadata": {},
   "source": [
    "Observing the data types of each column"
   ]
  },
  {
   "cell_type": "code",
   "execution_count": null,
   "metadata": {},
   "outputs": [],
   "source": [
    "df.dtypes"
   ]
  },
  {
   "cell_type": "markdown",
   "metadata": {},
   "source": [
    "Finding out the total number of rows and columns in the data"
   ]
  },
  {
   "cell_type": "code",
   "execution_count": null,
   "metadata": {},
   "outputs": [],
   "source": [
    "df.shape"
   ]
  },
  {
   "cell_type": "markdown",
   "metadata": {},
   "source": [
    "Finding out the column names"
   ]
  },
  {
   "cell_type": "code",
   "execution_count": null,
   "metadata": {},
   "outputs": [],
   "source": [
    "print(df.columns)"
   ]
  },
  {
   "cell_type": "markdown",
   "metadata": {},
   "source": [
    "Checking for null values if any"
   ]
  },
  {
   "cell_type": "code",
   "execution_count": null,
   "metadata": {},
   "outputs": [],
   "source": [
    "df.isnull().sum()"
   ]
  },
  {
   "cell_type": "markdown",
   "metadata": {},
   "source": [
    "There are a total of 271 null values in Year column and 58null values in Publisher column"
   ]
  },
  {
   "cell_type": "markdown",
   "metadata": {},
   "source": [
    "Using the mean replacement strategy to replace the null values in year column and using mode replacement strategy to replace the null values in the publisher column"
   ]
  },
  {
   "cell_type": "code",
   "execution_count": null,
   "metadata": {},
   "outputs": [],
   "source": [
    "year_mean=int(df['Year'].mean())\n",
    "publisher_mode=df['Publisher'].mode()[0]\n",
    "\n",
    "print(f\"year__mean:{year_mean} and publisher_mode:{publisher_mode}\")"
   ]
  },
  {
   "cell_type": "code",
   "execution_count": 14,
   "metadata": {},
   "outputs": [],
   "source": [
    "df['Year']=df['Year'].fillna(year_mean)\n",
    "df['Publisher']=df['Publisher'].fillna(publisher_mode)"
   ]
  },
  {
   "cell_type": "markdown",
   "metadata": {},
   "source": [
    "Now,Again checking the null values count to ensure that no null values are present in any of the columns"
   ]
  },
  {
   "cell_type": "code",
   "execution_count": null,
   "metadata": {},
   "outputs": [],
   "source": [
    "df.isnull().sum()"
   ]
  },
  {
   "cell_type": "markdown",
   "metadata": {},
   "source": [
    "Observing the statistical summary of the data and obtaining valuable information from the dataset"
   ]
  },
  {
   "cell_type": "code",
   "execution_count": null,
   "metadata": {},
   "outputs": [],
   "source": [
    "df.describe(include='all')"
   ]
  },
  {
   "cell_type": "code",
   "execution_count": null,
   "metadata": {},
   "outputs": [],
   "source": [
    "df.info()"
   ]
  },
  {
   "cell_type": "markdown",
   "metadata": {},
   "source": [
    "Looking out for most genre based games played in total"
   ]
  },
  {
   "cell_type": "code",
   "execution_count": null,
   "metadata": {},
   "outputs": [],
   "source": [
    "df['Genre'].value_counts()"
   ]
  },
  {
   "cell_type": "markdown",
   "metadata": {},
   "source": [
    "Action and Sports genre games are the most demanded genre based games"
   ]
  },
  {
   "cell_type": "markdown",
   "metadata": {},
   "source": [
    "Visualizing these information using countplot"
   ]
  },
  {
   "cell_type": "code",
   "execution_count": null,
   "metadata": {},
   "outputs": [],
   "source": [
    "plt.figure(figsize=(15,10))\n",
    "palette=sns.color_palette(\"hsv\",len(df['Genre'].unique()))\n",
    "sns.countplot(x='Genre',data=df,order=df['Genre'].value_counts().index,palette=palette)\n",
    "plt.xlabel('Genre')\n",
    "plt.ylabel('Count')\n",
    "plt.title(\"Games sold out per genre\")\n",
    "plt.xticks(rotation=90)"
   ]
  },
  {
   "cell_type": "markdown",
   "metadata": {},
   "source": [
    "Year with the most game realeses"
   ]
  },
  {
   "cell_type": "code",
   "execution_count": null,
   "metadata": {},
   "outputs": [],
   "source": [
    "df['Year']=df['Year'].astype(int)\n",
    "df['Year'].value_counts()"
   ]
  },
  {
   "cell_type": "markdown",
   "metadata": {},
   "source": [
    "Visualizing these information using countplot"
   ]
  },
  {
   "cell_type": "code",
   "execution_count": null,
   "metadata": {},
   "outputs": [],
   "source": [
    "plt.figure(figsize=(15,10))\n",
    "color_pal=sns.color_palette(\"bright6\",len(df['Year'].unique()))\n",
    "sns.countplot(x=df['Year'],data=df,order=df['Year'].value_counts().head(10).index,palette=color_pal)\n",
    "plt.xlabel(\"Year\")\n",
    "plt.ylabel(\"Count\")\n",
    "plt.title(\"Total number of games purchased each year\")\n",
    "plt.show()"
   ]
  },
  {
   "cell_type": "markdown",
   "metadata": {},
   "source": [
    "Top year games released per genre"
   ]
  },
  {
   "cell_type": "code",
   "execution_count": null,
   "metadata": {},
   "outputs": [],
   "source": [
    "plt.figure(figsize=(30, 10))\n",
    "sns.countplot(x=\"Year\", data=df, hue='Genre', order=df.Year.value_counts().iloc[:5].index)\n",
    "plt.xticks(size=16, rotation=90)"
   ]
  },
  {
   "cell_type": "markdown",
   "metadata": {},
   "source": [
    "Years with the highest sales worldwide"
   ]
  },
  {
   "cell_type": "code",
   "execution_count": null,
   "metadata": {},
   "outputs": [],
   "source": [
    "year_highest_sales_world_wide=df.groupby(by=['Year'])['Global_Sales'].sum()\n",
    "year_highest_sales_world_wide=year_highest_sales_world_wide.reset_index()\n",
    "year_highest_sales_world_wide=year_highest_sales_world_wide.sort_values(by=['Global_Sales'],ascending=False).head(10)\n",
    "print(year_highest_sales_world_wide)"
   ]
  },
  {
   "cell_type": "code",
   "execution_count": null,
   "metadata": {},
   "outputs": [],
   "source": [
    "plt.figure(figsize=(15, 10))\n",
    "palette = sns.color_palette(\"viridis\", len(year_highest_sales_world_wide))\n",
    "sns.barplot(x='Year', y='Global_Sales', data=year_highest_sales_world_wide, palette=palette)\n",
    "plt.xlabel('Year', fontsize=14)\n",
    "plt.ylabel('Global Sales (Millions)', fontsize=14)\n",
    "plt.title('Top 10 Years with Highest Worldwide Sales', fontsize=16)\n",
    "plt.show()"
   ]
  },
  {
   "cell_type": "markdown",
   "metadata": {},
   "source": [
    "Lets breakdown the sales for four different regions:North america,Japan,European union and others"
   ]
  },
  {
   "cell_type": "code",
   "execution_count": null,
   "metadata": {},
   "outputs": [],
   "source": [
    "year_sales_north_america=df.groupby(by=['Year'])['NA_Sales'].sum()\n",
    "year_sales_north_america=year_sales_north_america.reset_index()\n",
    "year_sales_north_america=year_sales_north_america.sort_values(by='NA_Sales',ascending=False).head(10)\n",
    "print(year_sales_north_america)"
   ]
  },
  {
   "cell_type": "code",
   "execution_count": null,
   "metadata": {},
   "outputs": [],
   "source": [
    "plt.figure(figsize=(15,10))\n",
    "sns.barplot(x='Year', y='NA_Sales',data=year_sales_north_america,palette=palette)\n",
    "plt.xlabel('Year', fontsize=14)\n",
    "plt.ylabel('Sales in North America (Millions)', fontsize=14)\n",
    "plt.title('Top 10 Years with Highest Sales in North America', fontsize=16)\n",
    "plt.show()"
   ]
  },
  {
   "cell_type": "code",
   "execution_count": null,
   "metadata": {},
   "outputs": [],
   "source": [
    "year_sales_japan=df.groupby(by=['Year'])['JP_Sales'].sum()\n",
    "year_sales_japan=year_sales_japan.reset_index()\n",
    "year_sales_japan=year_sales_japan.sort_values(by='JP_Sales',ascending=False).head(10)\n",
    "print(year_sales_japan)"
   ]
  },
  {
   "cell_type": "code",
   "execution_count": null,
   "metadata": {},
   "outputs": [],
   "source": [
    "plt.figure(figsize=(15,10))\n",
    "sns.barplot(x='Year', y='JP_Sales',data=year_sales_japan,palette=palette)\n",
    "plt.xlabel('Year', fontsize=14)\n",
    "plt.ylabel('Sales in Japan (Millions)', fontsize=14)\n",
    "plt.title('Top 10 Years with Highest Sales in Japan', fontsize=16)\n",
    "plt.show()"
   ]
  },
  {
   "cell_type": "code",
   "execution_count": null,
   "metadata": {},
   "outputs": [],
   "source": [
    "year_sales_EU=df.groupby(by=['Year'])['EU_Sales'].sum()\n",
    "year_sales_EU=year_sales_EU.reset_index()\n",
    "year_sales_EU=year_sales_EU.sort_values(by='EU_Sales',ascending=False).head(10)\n",
    "print(year_sales_EU)"
   ]
  },
  {
   "cell_type": "code",
   "execution_count": null,
   "metadata": {},
   "outputs": [],
   "source": [
    "plt.Figure(figsize=(15,10))\n",
    "sns.barplot(x='Year',y='EU_Sales',palette=palette,data=year_sales_EU)\n",
    "plt.xlabel('Year', fontsize=14)\n",
    "plt.ylabel('Sales in European Union (Millions)', fontsize=14)\n",
    "plt.title('Top 10 Years with Highest Sales in European Union', fontsize=16)\n",
    "plt.show()\n"
   ]
  },
  {
   "cell_type": "code",
   "execution_count": null,
   "metadata": {},
   "outputs": [],
   "source": [
    "year_sales_in_other=df.groupby(by=['Year'])['Other_Sales'].sum()\n",
    "year_sales_in_other=year_sales_in_other.reset_index()\n",
    "year_sales_in_other=year_sales_in_other.sort_values(by='Other_Sales',ascending=False).head(10)\n",
    "print(year_sales_in_other)"
   ]
  },
  {
   "cell_type": "code",
   "execution_count": null,
   "metadata": {},
   "outputs": [],
   "source": [
    "plt.Figure(figsize=(15,10))\n",
    "sns.barplot(x='Year',y='Other_Sales',palette=palette,data=year_sales_in_other)\n",
    "plt.xlabel('Year', fontsize=14)\n",
    "plt.ylabel('Sales in Other (Millions)', fontsize=14)\n",
    "plt.title('Top 10 Years with Highest Sales in Other', fontsize=16)\n",
    "plt.show()\n"
   ]
  },
  {
   "cell_type": "markdown",
   "metadata": {},
   "source": [
    "Now,Finding out the compostion of sales from different places in the top 5 years with highest sales"
   ]
  },
  {
   "cell_type": "code",
   "execution_count": null,
   "metadata": {},
   "outputs": [],
   "source": [
    "top_5_selling_years=year_highest_sales_world_wide.head()\n",
    "print(top_5_selling_years)"
   ]
  },
  {
   "cell_type": "code",
   "execution_count": null,
   "metadata": {},
   "outputs": [],
   "source": [
    "top_5_years = top_5_selling_years['Year']\n",
    "\n",
    "fig, axes = plt.subplots(1, 5, figsize=(20, 10))  \n",
    "axes = axes.flatten()\n",
    "\n",
    "for i, year in enumerate(top_5_years):\n",
    "    year_data = df[df['Year'] == year][['NA_Sales', 'EU_Sales', 'JP_Sales', 'Other_Sales']].sum()\n",
    "    \n",
    "    # Pie chart\n",
    "    axes[i].pie(year_data, labels=year_data.index, autopct='%1.1f%%', startangle=90, colors=sns.color_palette(\"Set2\", 4))\n",
    "    axes[i].set_title(f\"Sales Breakdown in {year}\")\n",
    "    \n",
    "plt.tight_layout()\n",
    "plt.show()\n"
   ]
  },
  {
   "cell_type": "markdown",
   "metadata": {},
   "source": [
    "Half of the sales in the video games are mainly generated from the North America region itself"
   ]
  },
  {
   "cell_type": "markdown",
   "metadata": {},
   "source": [
    "Let's see the total number of games released in these years"
   ]
  },
  {
   "cell_type": "code",
   "execution_count": null,
   "metadata": {},
   "outputs": [],
   "source": [
    "top_5_years = top_5_selling_years['Year']\n",
    "for year in top_5_years:\n",
    "    num_games = df[df['Year'] == year].shape[0]\n",
    "    print(f\"Number of games released in {year}: {num_games}\")\n",
    "    genre_counts = df[df['Year'] == year]['Genre'].value_counts()\n",
    "    publisher_counts=df[df['Publisher']==year]['Publisher'].value_counts()"
   ]
  },
  {
   "cell_type": "markdown",
   "metadata": {},
   "source": [
    "Lets breakdown the games via genre released in these top selling years "
   ]
  },
  {
   "cell_type": "code",
   "execution_count": null,
   "metadata": {},
   "outputs": [],
   "source": [
    "fig, axes = plt.subplots(1, 5, figsize=(20, 10)) \n",
    "axes = axes.flatten()\n",
    "\n",
    "\n",
    "\n",
    "for i, year in enumerate(top_5_years):\n",
    "    genre_counts = df[df['Year'] == year]['Genre'].value_counts().head()\n",
    "    \n",
    "    axes[i].bar(genre_counts.index, genre_counts.values, color=sns.color_palette(\"Set2\", len(genre_counts)))\n",
    "    axes[i].set_title(f\"Genre Breakdown in {year}\")\n",
    "    axes[i].set_xlabel('Genre')\n",
    "    axes[i].set_ylabel('Number of Games')\n",
    "plt.tight_layout()\n",
    "plt.show()"
   ]
  },
  {
   "cell_type": "code",
   "execution_count": null,
   "metadata": {},
   "outputs": [],
   "source": [
    "fig, axes = plt.subplots(1, 5, figsize=(20, 10)) \n",
    "axes = axes.flatten()\n",
    "\n",
    "\n",
    "\n",
    "for i, year in enumerate(top_5_years):\n",
    "    publisher_counts = df[df['Year'] == year]['Publisher'].value_counts().head(3)\n",
    "    \n",
    "    axes[i].bar(publisher_counts.index, publisher_counts.values, color=sns.color_palette(\"Set2\", len(publisher_counts)))\n",
    "    axes[i].set_title(f\"Publisher Breakdown in {year}\")\n",
    "    axes[i].set_xlabel('Publisher')\n",
    "    axes[i].set_ylabel('Number of Games')\n",
    "plt.tight_layout()\n",
    "plt.show()"
   ]
  },
  {
   "cell_type": "markdown",
   "metadata": {},
   "source": [
    "Electronic Arts,Ubisoft,Activision,Digital Entertainment were amongst the most game selling publishers"
   ]
  },
  {
   "cell_type": "markdown",
   "metadata": {},
   "source": [
    "Now,Lets perform EDA on the games\n",
    "---------------"
   ]
  },
  {
   "cell_type": "code",
   "execution_count": null,
   "metadata": {},
   "outputs": [],
   "source": [
    "df['Name'].unique()\n",
    "df['Name'].value_counts()"
   ]
  },
  {
   "cell_type": "markdown",
   "metadata": {},
   "source": [
    "Now,Lets see the top 10 most sold games"
   ]
  },
  {
   "cell_type": "code",
   "execution_count": null,
   "metadata": {},
   "outputs": [],
   "source": [
    "most_sold_games=df.sort_values(by='Global_Sales',ascending=False).head(10)\n",
    "print(most_sold_games[['Name','Global_Sales']])"
   ]
  },
  {
   "cell_type": "markdown",
   "metadata": {},
   "source": [
    "Lets visualize it in the barplot"
   ]
  },
  {
   "cell_type": "code",
   "execution_count": null,
   "metadata": {},
   "outputs": [],
   "source": [
    "plt.figure(figsize=(15, 8))\n",
    "sns.barplot(x='Global_Sales', y='Name', data=most_sold_games, palette=\"viridis\")\n",
    "plt.xlabel('Global Sales (Millions)', fontsize=14)\n",
    "plt.ylabel('Game Name', fontsize=14)\n",
    "plt.title('Top 10 Most Sold Games Based on Global Sales', fontsize=16)\n",
    "plt.show()"
   ]
  },
  {
   "cell_type": "markdown",
   "metadata": {},
   "source": [
    "Let's see the breakdown of this games in different places"
   ]
  },
  {
   "cell_type": "code",
   "execution_count": null,
   "metadata": {},
   "outputs": [],
   "source": [
    "sales_breakdown_of_top_games=most_sold_games[['Name','NA_Sales','JP_Sales','EU_Sales','Other_Sales']]\n",
    "print(sales_breakdown_of_top_games)"
   ]
  },
  {
   "cell_type": "markdown",
   "metadata": {},
   "source": [
    "Let's Visualize it"
   ]
  },
  {
   "cell_type": "code",
   "execution_count": null,
   "metadata": {},
   "outputs": [],
   "source": []
  },
  {
   "cell_type": "code",
   "execution_count": null,
   "metadata": {},
   "outputs": [],
   "source": [
    "sales_breakdown_of_top_games.set_index('Name', inplace=True)\n",
    "\n",
    "sales_breakdown_of_top_games.plot(kind='bar', figsize=(15, 8), colormap=\"Set2\")\n",
    "plt.xlabel('Game Name', fontsize=14)\n",
    "plt.ylabel('Sales (Millions)', fontsize=14)\n",
    "plt.title('Sales Breakdown for Top 10 Most Sold Games by Region', fontsize=16)\n",
    "plt.xticks(rotation=90)\n",
    "plt.legend(title='Regions')\n",
    "plt.tight_layout()\n",
    "plt.show()"
   ]
  },
  {
   "cell_type": "markdown",
   "metadata": {},
   "source": [
    "Visualizing in pie chart"
   ]
  },
  {
   "cell_type": "code",
   "execution_count": null,
   "metadata": {},
   "outputs": [],
   "source": [
    "fig, axes = plt.subplots(2, 5, figsize=(20, 10))  \n",
    "axes = axes.flatten()\n",
    "\n",
    "for i, (index, row) in enumerate(sales_breakdown_of_top_games.iterrows()):\n",
    "    game_sales = row[['NA_Sales', 'JP_Sales', 'Other_Sales', 'EU_Sales']]\n",
    "    \n",
    "    axes[i].pie(game_sales, labels=game_sales.index, autopct='%1.1f%%', startangle=90, colors=sns.color_palette(\"Set2\", 4))\n",
    "    \n",
    "    axes[i].set_title(index, fontsize=12, fontweight='bold') \n",
    "\n",
    "plt.tight_layout()\n",
    "plt.suptitle('Sales Breakdown for Top 10 Most Sold Games by Region', fontsize=16)\n",
    "plt.subplots_adjust(top=0.9)  \n",
    "plt.show()\n"
   ]
  },
  {
   "cell_type": "markdown",
   "metadata": {},
   "source": [
    "Let's see for the least sold games"
   ]
  },
  {
   "cell_type": "code",
   "execution_count": null,
   "metadata": {},
   "outputs": [],
   "source": [
    "least_sold_games=df.sort_values(by='Global_Sales',ascending=True).head(10)\n",
    "print(least_sold_games[['Name','Global_Sales']])"
   ]
  },
  {
   "cell_type": "code",
   "execution_count": null,
   "metadata": {},
   "outputs": [],
   "source": [
    "breakdown_of_least_sold_games=least_sold_games[['Name','NA_Sales','EU_Sales','JP_Sales','Other_Sales']]\n",
    "print(breakdown_of_least_sold_games)"
   ]
  },
  {
   "cell_type": "code",
   "execution_count": null,
   "metadata": {},
   "outputs": [],
   "source": [
    "fig, axes = plt.subplots(2, 5, figsize=(20, 10))  \n",
    "axes = axes.flatten()\n",
    "\n",
    "for i, (index, row) in enumerate(breakdown_of_least_sold_games.iterrows()):\n",
    "    game_sales = row[['NA_Sales', 'JP_Sales', 'Other_Sales', 'EU_Sales']]\n",
    "    \n",
    "    axes[i].pie(game_sales, labels=game_sales.index, autopct='%1.1f%%', startangle=90, colors=sns.color_palette(\"Set2\", 4))\n",
    "    \n",
    "    axes[i].set_title(row['Name'], fontsize=12, fontweight='bold') \n",
    "\n",
    "plt.tight_layout()\n",
    "plt.suptitle('Sales Breakdown for Least 10 Most Sold Games by Region', fontsize=16)\n",
    "plt.subplots_adjust(top=0.9)  \n",
    "plt.show()\n"
   ]
  },
  {
   "cell_type": "markdown",
   "metadata": {},
   "source": [
    "Let's observe the top 20 publishers with highest published games"
   ]
  },
  {
   "cell_type": "code",
   "execution_count": null,
   "metadata": {},
   "outputs": [],
   "source": [
    "publisher_game_count = df['Publisher'].value_counts()\n",
    "\n",
    "plt.figure(figsize=(15, 8))\n",
    "sns.barplot(\n",
    "    y=publisher_game_count.head(20).index, \n",
    "    x=publisher_game_count.head(20).values, \n",
    "    palette=\"viridis\"\n",
    ")\n",
    "plt.xlabel('Number of Games', fontsize=14)\n",
    "plt.ylabel('Publisher', fontsize=14)\n",
    "plt.title('Top 20 Publishers by Number of Games', fontsize=16)\n",
    "plt.tight_layout()\n",
    "plt.show()\n"
   ]
  },
  {
   "cell_type": "markdown",
   "metadata": {},
   "source": [
    "Let's observe the total sales generated by each publisher"
   ]
  },
  {
   "cell_type": "code",
   "execution_count": null,
   "metadata": {},
   "outputs": [],
   "source": [
    "publisher_total_sales = df.groupby('Publisher')['Global_Sales'].sum().sort_values(ascending=False)\n",
    "\n",
    "plt.figure(figsize=(15, 8))\n",
    "sns.barplot(\n",
    "    y=publisher_total_sales.head(20).index, \n",
    "    x=publisher_total_sales.head(20).values, \n",
    "    palette=\"coolwarm\"\n",
    ")\n",
    "plt.xlabel('Total Sales (Millions)', fontsize=14)\n",
    "plt.ylabel('Publisher', fontsize=14)\n",
    "plt.title('Top 20 Publishers by Total Sales', fontsize=16)\n",
    "plt.tight_layout()\n",
    "plt.show()\n"
   ]
  },
  {
   "cell_type": "markdown",
   "metadata": {},
   "source": [
    "Let's see the total distribution across different regions"
   ]
  },
  {
   "cell_type": "code",
   "execution_count": null,
   "metadata": {},
   "outputs": [],
   "source": [
    "regional_sales_by_publisher = df.groupby('Publisher')[['NA_Sales', 'EU_Sales', 'JP_Sales', 'Other_Sales']].sum()\n",
    "\n",
    "top_20_publishers = df.groupby('Publisher')['Global_Sales'].sum().sort_values(ascending=False).head(20).index\n",
    "regional_sales_top_20 = regional_sales_by_publisher.loc[top_20_publishers]\n",
    "\n",
    "regional_sales_top_20.plot(\n",
    "    kind='barh', \n",
    "    stacked=True, \n",
    "    figsize=(15, 8), \n",
    "    colormap=\"tab10\"\n",
    ")\n",
    "\n",
    "plt.xlabel('Total Sales (Millions)', fontsize=14)\n",
    "plt.ylabel('Publisher', fontsize=14)\n",
    "plt.title('Regional Sales Breakdown for Top 20 Publishers', fontsize=16)\n",
    "plt.legend(title='Region', fontsize=10)\n",
    "plt.tight_layout()\n",
    "plt.show()\n"
   ]
  },
  {
   "cell_type": "markdown",
   "metadata": {},
   "source": [
    "Let's visualize in pie-chart"
   ]
  },
  {
   "cell_type": "code",
   "execution_count": null,
   "metadata": {},
   "outputs": [],
   "source": [
    "fig, axes = plt.subplots(4, 5, figsize=(20, 15))  \n",
    "axes = axes.flatten()\n",
    "\n",
    "for i, publisher in enumerate(top_20_publishers):\n",
    "    sales = regional_sales_by_publisher.loc[publisher]\n",
    "\n",
    "    axes[i].pie(\n",
    "        sales, \n",
    "        labels=sales.index, \n",
    "        autopct='%1.1f%%', \n",
    "        startangle=90, \n",
    "        colors=sns.color_palette(\"tab10\", len(sales))\n",
    "    )\n",
    "    axes[i].set_title(publisher, fontsize=12, fontweight='bold')\n",
    "\n",
    "plt.suptitle('Regional Sales Breakdown for Top 20 Publishers', fontsize=16)\n",
    "plt.tight_layout()\n",
    "plt.subplots_adjust(top=0.9) \n",
    "plt.show()\n"
   ]
  },
  {
   "cell_type": "markdown",
   "metadata": {},
   "source": [
    "Time series plot for total sales by publishers over the years"
   ]
  },
  {
   "cell_type": "code",
   "execution_count": null,
   "metadata": {},
   "outputs": [],
   "source": [
    "df['Year'] = pd.to_numeric(df['Year'], errors='coerce')\n",
    "df = df.dropna(subset=['Year'])\n",
    "\n",
    "sales_over_years = df.groupby(['Year', 'Publisher'])['Global_Sales'].sum().reset_index()\n",
    "\n",
    "top_publishers = df.groupby('Publisher')['Global_Sales'].sum().sort_values(ascending=False).head(5).index\n",
    "filtered_sales = sales_over_years[sales_over_years['Publisher'].isin(top_publishers)]\n",
    "\n",
    "fig = px.line(\n",
    "    filtered_sales,\n",
    "    x='Year',\n",
    "    y='Global_Sales',\n",
    "    color='Publisher',\n",
    "    title='Total Sales of Top Publishers Over the Years',\n",
    "    labels={\n",
    "        'Year': 'Year',\n",
    "        'Global_Sales': 'Total Sales (Millions)',\n",
    "        'Publisher': 'Publisher'\n",
    "    },\n",
    "    markers=True\n",
    ")\n",
    "\n",
    "fig.update_layout(\n",
    "    xaxis_title='Year',\n",
    "    yaxis_title='Total Sales (Millions)',\n",
    "    title_font_size=18,\n",
    "    legend_title_font_size=12,\n",
    "    legend_title_text='Publisher',\n",
    "    template='plotly_white'\n",
    ")\n",
    "pio.show(fig)\n"
   ]
  },
  {
   "cell_type": "markdown",
   "metadata": {},
   "source": []
  },
  {
   "cell_type": "markdown",
   "metadata": {},
   "source": []
  }
 ],
 "metadata": {
  "kernelspec": {
   "display_name": "base",
   "language": "python",
   "name": "python3"
  },
  "language_info": {
   "codemirror_mode": {
    "name": "ipython",
    "version": 3
   },
   "file_extension": ".py",
   "mimetype": "text/x-python",
   "name": "python",
   "nbconvert_exporter": "python",
   "pygments_lexer": "ipython3",
   "version": "3.11.7"
  }
 },
 "nbformat": 4,
 "nbformat_minor": 2
}
